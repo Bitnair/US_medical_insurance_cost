{
 "cells": [
  {
   "cell_type": "markdown",
   "metadata": {},
   "source": [
    "# US medical insurance cost\n",
    "---------------------------"
   ]
  },
  {
   "cell_type": "markdown",
   "metadata": {},
   "source": [
    "### Project Objectives:\n",
    "1. Import a dataset into your program\n",
    "    + [Dataset source](https://www.kaggle.com/mirichoi0218/insurance)\n",
    "    + [csv library](https://docs.python.org/3/library/csv.html)\n",
    "2. Analyze a dataset by building out functions or class methods\n",
    "3. Use libraries to assist in your analysis\n",
    "    + Panda\n",
    "    + Numpy\n",
    "4. *Optional: Document and organize your findings*\n",
    "5. *Optional: Make predictions about a dataset’s features based on your findings*"
   ]
  },
  {
   "cell_type": "markdown",
   "metadata": {},
   "source": [
    "### Guide to project scoping\n",
    "1. **Problem Understanding** \n",
    "+ What is the problem? \n",
    "+ Who does it impact and how much? \n",
    "+ How is it being solved today and what are some of the gaps?\n",
    "2. **Goals** \n",
    "+ What are the goals of the project? \n",
    "+ How will I know if the project is successful?\n",
    "3. **Actions** \n",
    "+ What actions or interventions will this work inform?\n",
    "4. **Data**\n",
    "+ What data do I have access to internally? What data do I need?\n",
    "+ What can I augment from external and/or public sources?\n",
    "5. **Analysis**\n",
    "+ What analysis needs to be done? \n",
    "+ Does it involve description, detection, prediction, or behavior change? \n",
    "+ How will the analysis be validated?\n",
    "\n",
    "__[Source](http://www.datasciencepublicpolicy.org/our-work/tools-guides/data-science-project-scoping-guide/)__"
   ]
  },
  {
   "cell_type": "markdown",
   "metadata": {},
   "source": [
    "### Goals\n",
    "+ What is the **average age** of the patients?\n",
    "+ What is the **average age** for someone who has **at least one child**?\n",
    "+ At which **age** the insurance **cost is above average**?\n",
    "+ What is the **average** insurance cost for:\n",
    "    - all gender\n",
    "    - female\n",
    "    - male\n",
    "    - per region\n",
    "+ Where a **majority** of the individuals **are from**?\n",
    "+ Look at the **different costs** between **smokers vs. non-smokers**."
   ]
  },
  {
   "cell_type": "code",
   "execution_count": 70,
   "metadata": {},
   "outputs": [
    {
     "name": "stdout",
     "output_type": "stream",
     "text": [
      "The average age of patients is 39 years old\n",
      "The average age for parents with more than 1 child is 40 years old\n",
      "After 42 years old, medical insurance cost starts to be above the $13270 average\n"
     ]
    }
   ],
   "source": [
    "# Import the CSV file in python using csv library\n",
    "import csv\n",
    "\n",
    "# open file for reading\n",
    "with open('insurance.csv', 'r') as csv_file:\n",
    "    csv_reader = csv.reader(csv_file)\n",
    "    number_patients = 0 - 1 #-1 for the header\n",
    "    fields = []\n",
    "    patients_list = [] \n",
    "    \n",
    "    # Iterate through csv_reader and append to patient_list\n",
    "    for row in csv_reader:\n",
    "        if number_patients == -1:\n",
    "            fields += row       # apppend the header into fields list\n",
    "            number_patients += 1\n",
    "        else:\n",
    "            patients_list.append(row)\n",
    "            number_patients += 1\n",
    " \n",
    "            \n",
    "    ## What is the average age of the patients?\n",
    "    age_sum = 0\n",
    "    for patient in patients_list:\n",
    "        age_sum += int(patient[0])\n",
    "               \n",
    "    average_age = int(age_sum) / int(number_patients)\n",
    "    print('The average age of patients is {age} years old'.format(age=str(round(average_age))))\n",
    "    \n",
    "\n",
    "    ## What is the average age for someone who has at least one child?\n",
    "    age_sum_parents = 0\n",
    "    number_parents = 0 \n",
    "    for patient in patients_list:\n",
    "        if int(patient[3]) >= 1:\n",
    "            age_sum_parents += int(patient[0])\n",
    "            number_parents += 1\n",
    "               \n",
    "    average_age_parents = int(age_sum_parents) / int(number_parents)\n",
    "    print('The average age for parents with more than 1 child is {age} years old'.format(age=str(round(average_age_parents))))\n",
    "    \n",
    "\n",
    "    ## Around which age the insurance cost starts to be above average?\n",
    "    charges_sum = 0\n",
    "    age_above_sum = 0\n",
    "    age_count = 0  \n",
    "    \n",
    "    for patient in patients_list:\n",
    "        charges_sum += float(patient[6])\n",
    "    average_charges = charges_sum / number_patients\n",
    "    \n",
    "    for patient in patients_list:\n",
    "        if float(patient[6]) > average_charges:\n",
    "            age_above_sum += int(patient[0]) \n",
    "            age_count += 1\n",
    "    age_cost_above = age_above_sum / age_count\n",
    "    print('After {age} years old, medical insurance cost starts to be above the ${cost} average'.format(age=str(round(age_cost_above)), cost=str(round(average_charges))))\n",
    "    \n",
    "    \n",
    "    ## What is the **average** insurance cost for: all gender, females, males, per region\n",
    "    "
   ]
  },
  {
   "cell_type": "code",
   "execution_count": null,
   "metadata": {},
   "outputs": [],
   "source": []
  }
 ],
 "metadata": {
  "interpreter": {
   "hash": "cea57c8b84d48f2b452730da21cceff229172c1a357a17231efcec2648eb4e4c"
  },
  "kernelspec": {
   "display_name": "Python 3.9.7 64-bit ('pythonProject': conda)",
   "language": "python",
   "name": "python3"
  },
  "language_info": {
   "codemirror_mode": {
    "name": "ipython",
    "version": 3
   },
   "file_extension": ".py",
   "mimetype": "text/x-python",
   "name": "python",
   "nbconvert_exporter": "python",
   "pygments_lexer": "ipython3",
   "version": "3.9.9"
  },
  "orig_nbformat": 4
 },
 "nbformat": 4,
 "nbformat_minor": 2
}
